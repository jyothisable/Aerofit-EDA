{
 "cells": [
  {
   "cell_type": "markdown",
   "metadata": {},
   "source": [
    "# Aerofit EDA\n",
    "## Intro to the Dataset and the Aim of the EDA\n",
    "Aerofit a leading fitness equipment company, has multiple treadmill models in the market. For every past purchases we have data of customers (features) with us, with this data we can profile the customer for better targeting and recommendations. Additionally we will also find conditional probability of purchase of product for a given customer profile or features.\n",
    "\n",
    "**Methods and Techniques used:** EDA and Probability (No clustering methods)\n",
    "\n",
    "**Dataset**\n",
    "\n",
    "The dataset contains past purchase details of 3 main treadmills of Aerofit (KP281, KP481, and  KP781) along with customer features like age, gender, education, marital status and so on.\n",
    "\n",
    "Product Purchased:\tKP281, KP481, or KP781\n",
    "Age:\tIn years\n",
    "Gender:\tMale/Female\n",
    "Education:\tIn years\n",
    "MaritalStatus:\tSingle or partnered\n",
    "Usage:\tThe average number of times the customer plans to use the treadmill each week.\n",
    "Income:\tAnnual income (in $)\n",
    "Fitness: Self-rated fitness on a 1-to-5 scale, where 1 is the poor shape and 5 is the excellent shape.\n",
    "Miles:\tThe average number of miles the customer expects to walk/run each week\n",
    "\n",
    "Product Portfolio:\n",
    "The KP281 is an entry-level treadmill that sells for $1,500.\n",
    "The KP481 is for mid-level runners that sell for $1,750.\n",
    "The KP781 treadmill is having advanced features that sell for $2,500.\n",
    "\n",
    "What good looks like?\n",
    "\n",
    "Import the dataset and do usual data analysis steps like checking the structure & characteristics of the dataset\n",
    "Detect Outliers (using boxplot, “describe” method by checking the difference between mean and median)\n",
    "Check if features like marital status, age have any effect on the product purchased (using countplot, histplots, boxplots etc)\n",
    "Representing the marginal probability like - what percent of customers have purchased KP281, KP481, or KP781 in a table (can use pandas.crosstab here)\n",
    "Check correlation among different factors using heat maps or pair plots.\n",
    "With all the above steps you can answer questions like: What is the probability of a male customer buying a KP781 treadmill?\n",
    "Customer Profiling - Categorization of users.\n",
    "Probability- marginal, conditional probability.\n",
    "Some recommendations and actionable insights, based on the inferences.\n",
    "Later on, we will see more ways to do “customer segmentation”, but this case study in itself is relevant in some real-world scenarios.\n",
    "\n",
    "Evaluation Criteria\n",
    "\n",
    "Defining Problem Statement and Analysing basic metrics (10 Points)\n",
    "Observations on shape of data, data types of all the attributes, conversion of categorical attributes to `category` (If required), statistical summary\n",
    "Non-Graphical Analysis: Value counts and unique attributes ​​(10 Points)\n",
    "Visual Analysis - Univariate & Bivariate (30 Points)\n",
    "For continuous variable(s): Distplot, countplot, histogram for univariate analysis (10 Points)\n",
    "For categorical variable(s): Boxplot (10 Points)\n",
    "For correlation: Heatmaps, Pairplots(10 Points)\n",
    "Missing Value & Outlier Detection (10 Points)\n",
    "Business Insights based on Non-Graphical and Visual Analysis (10 Points)\n",
    "Comments on the range of attributes\n",
    "Comments on the distribution of the variables and relationship between them\n",
    "Comments for each univariate and bivariate plot\n",
    "Recommendations (10 Points) - Actionable items for business. No technical jargon. No complications. Simple action items that everyone can understand"
   ]
  },
  {
   "cell_type": "markdown",
   "metadata": {},
   "source": [
    "### Library Setup"
   ]
  },
  {
   "cell_type": "code",
   "execution_count": 342,
   "metadata": {},
   "outputs": [],
   "source": [
    "# Scientific libraries\n",
    "import numpy as np\n",
    "import pandas as pd\n",
    "\n",
    "\n",
    "# Visual libraries\n",
    "import matplotlib.pyplot as plt\n",
    "import seaborn as sns"
   ]
  },
  {
   "cell_type": "markdown",
   "metadata": {},
   "source": [
    "### Read in the Data"
   ]
  },
  {
   "cell_type": "code",
   "execution_count": 343,
   "metadata": {},
   "outputs": [
    {
     "data": {
      "text/html": [
       "<div>\n",
       "<style scoped>\n",
       "    .dataframe tbody tr th:only-of-type {\n",
       "        vertical-align: middle;\n",
       "    }\n",
       "\n",
       "    .dataframe tbody tr th {\n",
       "        vertical-align: top;\n",
       "    }\n",
       "\n",
       "    .dataframe thead th {\n",
       "        text-align: right;\n",
       "    }\n",
       "</style>\n",
       "<table border=\"1\" class=\"dataframe\">\n",
       "  <thead>\n",
       "    <tr style=\"text-align: right;\">\n",
       "      <th></th>\n",
       "      <th>Product</th>\n",
       "      <th>Age</th>\n",
       "      <th>Gender</th>\n",
       "      <th>Education</th>\n",
       "      <th>MaritalStatus</th>\n",
       "      <th>Usage</th>\n",
       "      <th>Fitness</th>\n",
       "      <th>Income</th>\n",
       "      <th>Miles</th>\n",
       "    </tr>\n",
       "  </thead>\n",
       "  <tbody>\n",
       "    <tr>\n",
       "      <th>0</th>\n",
       "      <td>KP281</td>\n",
       "      <td>18</td>\n",
       "      <td>Male</td>\n",
       "      <td>14</td>\n",
       "      <td>Single</td>\n",
       "      <td>3</td>\n",
       "      <td>4</td>\n",
       "      <td>29562</td>\n",
       "      <td>112</td>\n",
       "    </tr>\n",
       "    <tr>\n",
       "      <th>1</th>\n",
       "      <td>KP281</td>\n",
       "      <td>19</td>\n",
       "      <td>Male</td>\n",
       "      <td>15</td>\n",
       "      <td>Single</td>\n",
       "      <td>2</td>\n",
       "      <td>3</td>\n",
       "      <td>31836</td>\n",
       "      <td>75</td>\n",
       "    </tr>\n",
       "    <tr>\n",
       "      <th>2</th>\n",
       "      <td>KP281</td>\n",
       "      <td>19</td>\n",
       "      <td>Female</td>\n",
       "      <td>14</td>\n",
       "      <td>Partnered</td>\n",
       "      <td>4</td>\n",
       "      <td>3</td>\n",
       "      <td>30699</td>\n",
       "      <td>66</td>\n",
       "    </tr>\n",
       "    <tr>\n",
       "      <th>3</th>\n",
       "      <td>KP281</td>\n",
       "      <td>19</td>\n",
       "      <td>Male</td>\n",
       "      <td>12</td>\n",
       "      <td>Single</td>\n",
       "      <td>3</td>\n",
       "      <td>3</td>\n",
       "      <td>32973</td>\n",
       "      <td>85</td>\n",
       "    </tr>\n",
       "    <tr>\n",
       "      <th>4</th>\n",
       "      <td>KP281</td>\n",
       "      <td>20</td>\n",
       "      <td>Male</td>\n",
       "      <td>13</td>\n",
       "      <td>Partnered</td>\n",
       "      <td>4</td>\n",
       "      <td>2</td>\n",
       "      <td>35247</td>\n",
       "      <td>47</td>\n",
       "    </tr>\n",
       "  </tbody>\n",
       "</table>\n",
       "</div>"
      ],
      "text/plain": [
       "  Product  Age  Gender  Education MaritalStatus  Usage  Fitness  Income  Miles\n",
       "0   KP281   18    Male         14        Single      3        4   29562    112\n",
       "1   KP281   19    Male         15        Single      2        3   31836     75\n",
       "2   KP281   19  Female         14     Partnered      4        3   30699     66\n",
       "3   KP281   19    Male         12        Single      3        3   32973     85\n",
       "4   KP281   20    Male         13     Partnered      4        2   35247     47"
      ]
     },
     "execution_count": 343,
     "metadata": {},
     "output_type": "execute_result"
    }
   ],
   "source": [
    "af_df = pd.read_csv(\"aerofit_treadmill.csv\")\n",
    "af_df.head()"
   ]
  },
  {
   "cell_type": "markdown",
   "metadata": {},
   "source": [
    "## Basic Exploration and Data Cleaning"
   ]
  },
  {
   "cell_type": "code",
   "execution_count": 344,
   "metadata": {},
   "outputs": [
    {
     "name": "stdout",
     "output_type": "stream",
     "text": [
      "<class 'pandas.core.frame.DataFrame'>\n",
      "RangeIndex: 180 entries, 0 to 179\n",
      "Data columns (total 9 columns):\n",
      " #   Column         Non-Null Count  Dtype \n",
      "---  ------         --------------  ----- \n",
      " 0   Product        180 non-null    object\n",
      " 1   Age            180 non-null    int64 \n",
      " 2   Gender         180 non-null    object\n",
      " 3   Education      180 non-null    int64 \n",
      " 4   MaritalStatus  180 non-null    object\n",
      " 5   Usage          180 non-null    int64 \n",
      " 6   Fitness        180 non-null    int64 \n",
      " 7   Income         180 non-null    int64 \n",
      " 8   Miles          180 non-null    int64 \n",
      "dtypes: int64(6), object(3)\n",
      "memory usage: 12.8+ KB\n"
     ]
    },
    {
     "data": {
      "text/html": [
       "<div>\n",
       "<style scoped>\n",
       "    .dataframe tbody tr th:only-of-type {\n",
       "        vertical-align: middle;\n",
       "    }\n",
       "\n",
       "    .dataframe tbody tr th {\n",
       "        vertical-align: top;\n",
       "    }\n",
       "\n",
       "    .dataframe thead th {\n",
       "        text-align: right;\n",
       "    }\n",
       "</style>\n",
       "<table border=\"1\" class=\"dataframe\">\n",
       "  <thead>\n",
       "    <tr style=\"text-align: right;\">\n",
       "      <th></th>\n",
       "      <th>Age</th>\n",
       "      <th>Education</th>\n",
       "      <th>Usage</th>\n",
       "      <th>Fitness</th>\n",
       "      <th>Income</th>\n",
       "      <th>Miles</th>\n",
       "    </tr>\n",
       "  </thead>\n",
       "  <tbody>\n",
       "    <tr>\n",
       "      <th>count</th>\n",
       "      <td>180.000000</td>\n",
       "      <td>180.000000</td>\n",
       "      <td>180.000000</td>\n",
       "      <td>180.000000</td>\n",
       "      <td>180.000000</td>\n",
       "      <td>180.000000</td>\n",
       "    </tr>\n",
       "    <tr>\n",
       "      <th>mean</th>\n",
       "      <td>28.788889</td>\n",
       "      <td>15.572222</td>\n",
       "      <td>3.455556</td>\n",
       "      <td>3.311111</td>\n",
       "      <td>53719.577778</td>\n",
       "      <td>103.194444</td>\n",
       "    </tr>\n",
       "    <tr>\n",
       "      <th>std</th>\n",
       "      <td>6.943498</td>\n",
       "      <td>1.617055</td>\n",
       "      <td>1.084797</td>\n",
       "      <td>0.958869</td>\n",
       "      <td>16506.684226</td>\n",
       "      <td>51.863605</td>\n",
       "    </tr>\n",
       "    <tr>\n",
       "      <th>min</th>\n",
       "      <td>18.000000</td>\n",
       "      <td>12.000000</td>\n",
       "      <td>2.000000</td>\n",
       "      <td>1.000000</td>\n",
       "      <td>29562.000000</td>\n",
       "      <td>21.000000</td>\n",
       "    </tr>\n",
       "    <tr>\n",
       "      <th>25%</th>\n",
       "      <td>24.000000</td>\n",
       "      <td>14.000000</td>\n",
       "      <td>3.000000</td>\n",
       "      <td>3.000000</td>\n",
       "      <td>44058.750000</td>\n",
       "      <td>66.000000</td>\n",
       "    </tr>\n",
       "    <tr>\n",
       "      <th>50%</th>\n",
       "      <td>26.000000</td>\n",
       "      <td>16.000000</td>\n",
       "      <td>3.000000</td>\n",
       "      <td>3.000000</td>\n",
       "      <td>50596.500000</td>\n",
       "      <td>94.000000</td>\n",
       "    </tr>\n",
       "    <tr>\n",
       "      <th>75%</th>\n",
       "      <td>33.000000</td>\n",
       "      <td>16.000000</td>\n",
       "      <td>4.000000</td>\n",
       "      <td>4.000000</td>\n",
       "      <td>58668.000000</td>\n",
       "      <td>114.750000</td>\n",
       "    </tr>\n",
       "    <tr>\n",
       "      <th>max</th>\n",
       "      <td>50.000000</td>\n",
       "      <td>21.000000</td>\n",
       "      <td>7.000000</td>\n",
       "      <td>5.000000</td>\n",
       "      <td>104581.000000</td>\n",
       "      <td>360.000000</td>\n",
       "    </tr>\n",
       "  </tbody>\n",
       "</table>\n",
       "</div>"
      ],
      "text/plain": [
       "              Age   Education       Usage     Fitness         Income  \\\n",
       "count  180.000000  180.000000  180.000000  180.000000     180.000000   \n",
       "mean    28.788889   15.572222    3.455556    3.311111   53719.577778   \n",
       "std      6.943498    1.617055    1.084797    0.958869   16506.684226   \n",
       "min     18.000000   12.000000    2.000000    1.000000   29562.000000   \n",
       "25%     24.000000   14.000000    3.000000    3.000000   44058.750000   \n",
       "50%     26.000000   16.000000    3.000000    3.000000   50596.500000   \n",
       "75%     33.000000   16.000000    4.000000    4.000000   58668.000000   \n",
       "max     50.000000   21.000000    7.000000    5.000000  104581.000000   \n",
       "\n",
       "            Miles  \n",
       "count  180.000000  \n",
       "mean   103.194444  \n",
       "std     51.863605  \n",
       "min     21.000000  \n",
       "25%     66.000000  \n",
       "50%     94.000000  \n",
       "75%    114.750000  \n",
       "max    360.000000  "
      ]
     },
     "execution_count": 344,
     "metadata": {},
     "output_type": "execute_result"
    }
   ],
   "source": [
    "af_df.info()\n",
    "af_df.describe()"
   ]
  },
  {
   "cell_type": "markdown",
   "metadata": {},
   "source": [
    "### **Understanding Features**\n",
    "> `variable_name` : importance - comment\n",
    "\n",
    "Column           | Description                                                                                  | Expected Data Type\n",
    "-----------------|----------------------------------------------------------------------------------------------|-------------------\n",
    "`product`        | 3 types of product                                                                           | category\n",
    "`age`            | In years                                                                                     | int64\n",
    "`gender`         | Male/Female                                                                                  | category\n",
    "`education`      | In years                                                                                     | int64\n",
    "`marital_status` | Single or partnered                                                                          | category\n",
    "`usage`          | The average number of times the customer plans to use the treadmill each week                | int64\n",
    "`fitness`        | Self-rated fitness on a 1-to-5 scale, where 1 is the poor shape and 5 is the excellent shape | int64\n",
    "`income`         | Annual income (in $)                                                                         | int64\n",
    "`miles`          | The average number of miles the customer expects to walk/run each week                       | int64\n",
    "\n",
    "Product Portfolio:\n",
    "* The KP281 is an entry-level treadmill that sells for $1,500.\n",
    "* The KP481 is for mid-level runners that sell for $1,750.\n",
    "* The KP781 treadmill is having advanced features that sell for $2,500.\n",
    "\n",
    "New Features added later\n",
    "Column      | Description                  | Expected Data Type\n",
    "------------|------------------------------|-------------------\n",
    "age_cat     | Categorized age groups       | category\n",
    "edu_cat     | Categorized education groups | category\n",
    "fitness_cat | Categorized fitness groups   | category\n",
    "usage_cat   | Categorized usage groups     | category\n",
    "income_cat  | Categorized income groups    | category\n",
    "miles_cat   | Categorized miles groups     | category\n"
   ]
  },
  {
   "cell_type": "markdown",
   "metadata": {},
   "source": [
    "### Data Cleaning\n",
    "**Basic sanity and preparation**\n",
    "* Renamed columns to snake_case for better readability"
   ]
  },
  {
   "cell_type": "code",
   "execution_count": 345,
   "metadata": {},
   "outputs": [
    {
     "data": {
      "text/html": [
       "<div>\n",
       "<style scoped>\n",
       "    .dataframe tbody tr th:only-of-type {\n",
       "        vertical-align: middle;\n",
       "    }\n",
       "\n",
       "    .dataframe tbody tr th {\n",
       "        vertical-align: top;\n",
       "    }\n",
       "\n",
       "    .dataframe thead th {\n",
       "        text-align: right;\n",
       "    }\n",
       "</style>\n",
       "<table border=\"1\" class=\"dataframe\">\n",
       "  <thead>\n",
       "    <tr style=\"text-align: right;\">\n",
       "      <th></th>\n",
       "      <th>product</th>\n",
       "      <th>age</th>\n",
       "      <th>gender</th>\n",
       "      <th>education</th>\n",
       "      <th>marital_status</th>\n",
       "      <th>usage</th>\n",
       "      <th>fitness</th>\n",
       "      <th>income</th>\n",
       "      <th>miles</th>\n",
       "    </tr>\n",
       "  </thead>\n",
       "  <tbody>\n",
       "    <tr>\n",
       "      <th>0</th>\n",
       "      <td>KP281</td>\n",
       "      <td>18</td>\n",
       "      <td>Male</td>\n",
       "      <td>14</td>\n",
       "      <td>Single</td>\n",
       "      <td>3</td>\n",
       "      <td>4</td>\n",
       "      <td>29562</td>\n",
       "      <td>112</td>\n",
       "    </tr>\n",
       "    <tr>\n",
       "      <th>1</th>\n",
       "      <td>KP281</td>\n",
       "      <td>19</td>\n",
       "      <td>Male</td>\n",
       "      <td>15</td>\n",
       "      <td>Single</td>\n",
       "      <td>2</td>\n",
       "      <td>3</td>\n",
       "      <td>31836</td>\n",
       "      <td>75</td>\n",
       "    </tr>\n",
       "    <tr>\n",
       "      <th>2</th>\n",
       "      <td>KP281</td>\n",
       "      <td>19</td>\n",
       "      <td>Female</td>\n",
       "      <td>14</td>\n",
       "      <td>Partnered</td>\n",
       "      <td>4</td>\n",
       "      <td>3</td>\n",
       "      <td>30699</td>\n",
       "      <td>66</td>\n",
       "    </tr>\n",
       "    <tr>\n",
       "      <th>3</th>\n",
       "      <td>KP281</td>\n",
       "      <td>19</td>\n",
       "      <td>Male</td>\n",
       "      <td>12</td>\n",
       "      <td>Single</td>\n",
       "      <td>3</td>\n",
       "      <td>3</td>\n",
       "      <td>32973</td>\n",
       "      <td>85</td>\n",
       "    </tr>\n",
       "    <tr>\n",
       "      <th>4</th>\n",
       "      <td>KP281</td>\n",
       "      <td>20</td>\n",
       "      <td>Male</td>\n",
       "      <td>13</td>\n",
       "      <td>Partnered</td>\n",
       "      <td>4</td>\n",
       "      <td>2</td>\n",
       "      <td>35247</td>\n",
       "      <td>47</td>\n",
       "    </tr>\n",
       "  </tbody>\n",
       "</table>\n",
       "</div>"
      ],
      "text/plain": [
       "  product  age  gender  education marital_status  usage  fitness  income  \\\n",
       "0   KP281   18    Male         14         Single      3        4   29562   \n",
       "1   KP281   19    Male         15         Single      2        3   31836   \n",
       "2   KP281   19  Female         14      Partnered      4        3   30699   \n",
       "3   KP281   19    Male         12         Single      3        3   32973   \n",
       "4   KP281   20    Male         13      Partnered      4        2   35247   \n",
       "\n",
       "   miles  \n",
       "0    112  \n",
       "1     75  \n",
       "2     66  \n",
       "3     85  \n",
       "4     47  "
      ]
     },
     "execution_count": 345,
     "metadata": {},
     "output_type": "execute_result"
    }
   ],
   "source": [
    "# Rename columns to snake_case\n",
    "af_df.rename(columns=lambda x: x.lower().replace(' ', '_'), inplace=True)\n",
    "af_df.rename({'maritalstatus':'marital_status'}, axis = 1, inplace=True)\n",
    "af_df.head()"
   ]
  },
  {
   "cell_type": "markdown",
   "metadata": {},
   "source": [
    "**Data Integrity and Consistency**\n",
    "* Changed data type of columns to correct data type\n",
    "* Data range checked and validated\n",
    "* For categorical variables collapsed categories with the same or similar names and ordered categories"
   ]
  },
  {
   "cell_type": "code",
   "execution_count": 346,
   "metadata": {},
   "outputs": [
    {
     "name": "stdout",
     "output_type": "stream",
     "text": [
      "<class 'pandas.core.frame.DataFrame'>\n",
      "RangeIndex: 180 entries, 0 to 179\n",
      "Data columns (total 9 columns):\n",
      " #   Column          Non-Null Count  Dtype   \n",
      "---  ------          --------------  -----   \n",
      " 0   product         180 non-null    category\n",
      " 1   age             180 non-null    int64   \n",
      " 2   gender          180 non-null    category\n",
      " 3   education       180 non-null    int64   \n",
      " 4   marital_status  180 non-null    category\n",
      " 5   usage           180 non-null    int64   \n",
      " 6   fitness         180 non-null    int64   \n",
      " 7   income          180 non-null    int64   \n",
      " 8   miles           180 non-null    int64   \n",
      "dtypes: category(3), int64(6)\n",
      "memory usage: 9.5 KB\n"
     ]
    },
    {
     "data": {
      "text/html": [
       "<div>\n",
       "<style scoped>\n",
       "    .dataframe tbody tr th:only-of-type {\n",
       "        vertical-align: middle;\n",
       "    }\n",
       "\n",
       "    .dataframe tbody tr th {\n",
       "        vertical-align: top;\n",
       "    }\n",
       "\n",
       "    .dataframe thead th {\n",
       "        text-align: right;\n",
       "    }\n",
       "</style>\n",
       "<table border=\"1\" class=\"dataframe\">\n",
       "  <thead>\n",
       "    <tr style=\"text-align: right;\">\n",
       "      <th></th>\n",
       "      <th>age</th>\n",
       "      <th>education</th>\n",
       "      <th>usage</th>\n",
       "      <th>fitness</th>\n",
       "      <th>income</th>\n",
       "      <th>miles</th>\n",
       "    </tr>\n",
       "  </thead>\n",
       "  <tbody>\n",
       "    <tr>\n",
       "      <th>count</th>\n",
       "      <td>180.000000</td>\n",
       "      <td>180.000000</td>\n",
       "      <td>180.000000</td>\n",
       "      <td>180.000000</td>\n",
       "      <td>180.000000</td>\n",
       "      <td>180.000000</td>\n",
       "    </tr>\n",
       "    <tr>\n",
       "      <th>mean</th>\n",
       "      <td>28.788889</td>\n",
       "      <td>15.572222</td>\n",
       "      <td>3.455556</td>\n",
       "      <td>3.311111</td>\n",
       "      <td>53719.577778</td>\n",
       "      <td>103.194444</td>\n",
       "    </tr>\n",
       "    <tr>\n",
       "      <th>std</th>\n",
       "      <td>6.943498</td>\n",
       "      <td>1.617055</td>\n",
       "      <td>1.084797</td>\n",
       "      <td>0.958869</td>\n",
       "      <td>16506.684226</td>\n",
       "      <td>51.863605</td>\n",
       "    </tr>\n",
       "    <tr>\n",
       "      <th>min</th>\n",
       "      <td>18.000000</td>\n",
       "      <td>12.000000</td>\n",
       "      <td>2.000000</td>\n",
       "      <td>1.000000</td>\n",
       "      <td>29562.000000</td>\n",
       "      <td>21.000000</td>\n",
       "    </tr>\n",
       "    <tr>\n",
       "      <th>25%</th>\n",
       "      <td>24.000000</td>\n",
       "      <td>14.000000</td>\n",
       "      <td>3.000000</td>\n",
       "      <td>3.000000</td>\n",
       "      <td>44058.750000</td>\n",
       "      <td>66.000000</td>\n",
       "    </tr>\n",
       "    <tr>\n",
       "      <th>50%</th>\n",
       "      <td>26.000000</td>\n",
       "      <td>16.000000</td>\n",
       "      <td>3.000000</td>\n",
       "      <td>3.000000</td>\n",
       "      <td>50596.500000</td>\n",
       "      <td>94.000000</td>\n",
       "    </tr>\n",
       "    <tr>\n",
       "      <th>75%</th>\n",
       "      <td>33.000000</td>\n",
       "      <td>16.000000</td>\n",
       "      <td>4.000000</td>\n",
       "      <td>4.000000</td>\n",
       "      <td>58668.000000</td>\n",
       "      <td>114.750000</td>\n",
       "    </tr>\n",
       "    <tr>\n",
       "      <th>max</th>\n",
       "      <td>50.000000</td>\n",
       "      <td>21.000000</td>\n",
       "      <td>7.000000</td>\n",
       "      <td>5.000000</td>\n",
       "      <td>104581.000000</td>\n",
       "      <td>360.000000</td>\n",
       "    </tr>\n",
       "  </tbody>\n",
       "</table>\n",
       "</div>"
      ],
      "text/plain": [
       "              age   education       usage     fitness         income  \\\n",
       "count  180.000000  180.000000  180.000000  180.000000     180.000000   \n",
       "mean    28.788889   15.572222    3.455556    3.311111   53719.577778   \n",
       "std      6.943498    1.617055    1.084797    0.958869   16506.684226   \n",
       "min     18.000000   12.000000    2.000000    1.000000   29562.000000   \n",
       "25%     24.000000   14.000000    3.000000    3.000000   44058.750000   \n",
       "50%     26.000000   16.000000    3.000000    3.000000   50596.500000   \n",
       "75%     33.000000   16.000000    4.000000    4.000000   58668.000000   \n",
       "max     50.000000   21.000000    7.000000    5.000000  104581.000000   \n",
       "\n",
       "            miles  \n",
       "count  180.000000  \n",
       "mean   103.194444  \n",
       "std     51.863605  \n",
       "min     21.000000  \n",
       "25%     66.000000  \n",
       "50%     94.000000  \n",
       "75%    114.750000  \n",
       "max    360.000000  "
      ]
     },
     "execution_count": 346,
     "metadata": {},
     "output_type": "execute_result"
    }
   ],
   "source": [
    "# Data Type Constraint: Constrain each variable to a specific data type, and check for mixed data types within a column.\n",
    "# Datatype map for each column name\n",
    "data_type_map = {\n",
    "    'product': 'category',\n",
    "    'age': 'int64',\n",
    "    'gender': 'category',\n",
    "    'education': 'int64',\n",
    "    'marital_status': 'category',\n",
    "    'usage': 'int64',\n",
    "    'fitness': 'int64',\n",
    "    'income': 'int64',\n",
    "    'miles': 'int64'\n",
    "}\n",
    "\n",
    "# Convert all columns to the specified data type\n",
    "af_df = af_df.astype(data_type_map)\n",
    "af_df.info()\n",
    "af_df.describe()"
   ]
  },
  {
   "cell_type": "code",
   "execution_count": 347,
   "metadata": {},
   "outputs": [
    {
     "data": {
      "text/plain": [
       "fitness\n",
       "3    97\n",
       "5    31\n",
       "2    26\n",
       "4    24\n",
       "1     2\n",
       "Name: count, dtype: int64"
      ]
     },
     "execution_count": 347,
     "metadata": {},
     "output_type": "execute_result"
    }
   ],
   "source": [
    "# Data Range Constraints: Each variable could have a limited range of values, and check for out of range values.\n",
    "\n",
    "# Numerical Variables\n",
    "af_df.describe() # categories not included\n",
    "\n",
    "af_df['fitness'].value_counts() # range within 1-5"
   ]
  },
  {
   "cell_type": "code",
   "execution_count": 348,
   "metadata": {},
   "outputs": [
    {
     "name": "stdout",
     "output_type": "stream",
     "text": [
      "product\n",
      "KP281    80\n",
      "KP481    60\n",
      "KP781    40\n",
      "Name: count, dtype: int64\n",
      "gender\n",
      "Male      104\n",
      "Female     76\n",
      "Name: count, dtype: int64\n",
      "marital_status\n",
      "Partnered    107\n",
      "Single        73\n",
      "Name: count, dtype: int64\n"
     ]
    }
   ],
   "source": [
    "# Categorical Constraint and order: \n",
    "\n",
    "# Checking for categories with very low counts and uncollapsed categories\n",
    "print(af_df['product'].value_counts())\n",
    "print(af_df['gender'].value_counts())\n",
    "print(af_df['marital_status'].value_counts())\n",
    "\n",
    "# Setting order and renaming for category data types\n",
    "af_df['product'] = af_df['product'].cat.rename_categories({'KP281':'KP281 - Entry Variant', 'KP481': 'KP481 - Mid Variant','KP781': 'KP781 - High Variant'})\n",
    "af_df['product'] = af_df['product'].cat.set_categories(['KP281 - Entry Variant', 'KP481 - Mid Variant','KP781 - High Variant'], ordered=True)\n",
    "af_df['gender'] = af_df['gender'].cat.set_categories(['Male', 'Female'], ordered=True)\n",
    "af_df['marital_status'] = af_df['marital_status'].cat.set_categories(['Single', 'Partnered'], ordered=True)"
   ]
  },
  {
   "cell_type": "markdown",
   "metadata": {},
   "source": [
    "**Data Quality and Cleansing**\n",
    "* No missing values found\n",
    "* Outliers are found but since the numbers are high we can't remove them. Thus we will use binning or discretization strategy to reduce the effect of outliers, although this would decrease the quality of data, this is good for an EDA analysis where k-means clustering is not used.\n",
    "* Number of bins suitable for the data is found and can be used to generate categorical data during feature engineering"
   ]
  },
  {
   "cell_type": "code",
   "execution_count": 349,
   "metadata": {},
   "outputs": [
    {
     "name": "stdout",
     "output_type": "stream",
     "text": [
      "<class 'pandas.core.frame.DataFrame'>\n",
      "RangeIndex: 180 entries, 0 to 179\n",
      "Data columns (total 9 columns):\n",
      " #   Column          Non-Null Count  Dtype   \n",
      "---  ------          --------------  -----   \n",
      " 0   product         180 non-null    category\n",
      " 1   age             180 non-null    int64   \n",
      " 2   gender          180 non-null    category\n",
      " 3   education       180 non-null    int64   \n",
      " 4   marital_status  180 non-null    category\n",
      " 5   usage           180 non-null    int64   \n",
      " 6   fitness         180 non-null    int64   \n",
      " 7   income          180 non-null    int64   \n",
      " 8   miles           180 non-null    int64   \n",
      "dtypes: category(3), int64(6)\n",
      "memory usage: 9.5 KB\n"
     ]
    }
   ],
   "source": [
    "# Handling Missing Data: Impute using mean or mode with or without grouping by other categories, and check for patterns in missingness.\n",
    "\n",
    "af_df.info() # no missing values"
   ]
  },
  {
   "cell_type": "code",
   "execution_count": 350,
   "metadata": {},
   "outputs": [
    {
     "data": {
      "text/plain": [
       "<seaborn.axisgrid.FacetGrid at 0x7f2af6a19990>"
      ]
     },
     "execution_count": 350,
     "metadata": {},
     "output_type": "execute_result"
    },
    {
     "data": {
      "image/png": "[encoded data removed]",
      "text/plain": [
       "<Figure size 500x500 with 1 Axes>"
      ]
     },
     "metadata": {},
     "output_type": "display_data"
    },
    {
     "data": {
      "image/png": "[encoded data removed]",
      "text/plain": [
       "<Figure size 500x500 with 1 Axes>"
      ]
     },
     "metadata": {},
     "output_type": "display_data"
    },
    {
     "data": {
      "image/png": "[encoded data removed]",
      "text/plain": [
       "<Figure size 500x500 with 1 Axes>"
      ]
     },
     "metadata": {},
     "output_type": "display_data"
    },
    {
     "data": {
      "image/png": "[encoded data removed]",
      "text/plain": [
       "<Figure size 500x500 with 1 Axes>"
      ]
     },
     "metadata": {},
     "output_type": "display_data"
    },
    {
     "data": {
      "image/png": "[encoded data removed]",
      "text/plain": [
       "<Figure size 500x500 with 1 Axes>"
      ]
     },
     "metadata": {},
     "output_type": "display_data"
    },
    {
     "data": {
      "image/png": "[encoded data removed]",
      "text/plain": [
       "<Figure size 500x500 with 1 Axes>"
      ]
     },
     "metadata": {},
     "output_type": "display_data"
    }
   ],
   "source": [
    "# Handling Outliers: Remove extreme outliers if less in number and impute if more.\n",
    "# checking for outliers\n",
    "sns.displot(af_df['age'], bins=3)\n",
    "sns.displot(af_df['education'], bins=3)\n",
    "sns.displot(af_df['usage'], bins=3)\n",
    "sns.displot(af_df['fitness'], bins=3)\n",
    "sns.displot(af_df['income'],bins=3)\n",
    "sns.displot(af_df['miles'],bins=4) # 4th category can be collapsed later\n",
    "\n",
    "# Above bin size will be used for feature generation\n"
   ]
  },
  {
   "cell_type": "markdown",
   "metadata": {},
   "source": [
    "**Data Transformation and Feature Engineering**\n",
    "* Generated new categorical features from numerical data with the bin size found in the previous step\n",
    "* Renamed and ordered new categorical features"
   ]
  },
  {
   "cell_type": "code",
   "execution_count": 351,
   "metadata": {},
   "outputs": [
    {
     "name": "stdout",
     "output_type": "stream",
     "text": [
      "<class 'pandas.core.frame.DataFrame'>\n",
      "RangeIndex: 180 entries, 0 to 179\n",
      "Data columns (total 15 columns):\n",
      " #   Column          Non-Null Count  Dtype   \n",
      "---  ------          --------------  -----   \n",
      " 0   product         180 non-null    category\n",
      " 1   age             180 non-null    int64   \n",
      " 2   gender          180 non-null    category\n",
      " 3   education       180 non-null    int64   \n",
      " 4   marital_status  180 non-null    category\n",
      " 5   usage           180 non-null    int64   \n",
      " 6   fitness         180 non-null    int64   \n",
      " 7   income          180 non-null    int64   \n",
      " 8   miles           180 non-null    int64   \n",
      " 9   age_cat         180 non-null    category\n",
      " 10  edu_cat         180 non-null    category\n",
      " 11  fitness_cat     180 non-null    category\n",
      " 12  usage_cat       180 non-null    category\n",
      " 13  income_cat      180 non-null    category\n",
      " 14  miles_cat       180 non-null    category\n",
      "dtypes: category(9), int64(6)\n",
      "memory usage: 11.5 KB\n"
     ]
    }
   ],
   "source": [
    "# Generating New Features: Create new features like the difference between purchase date and delivery date or segment numerical data into categorical bins.\n",
    "# As per the bin size found earlier make categorical data\n",
    "af_df['age_cat'] = pd.cut(af_df['age'], bins=3, ordered=True, precision=0)\n",
    "af_df['edu_cat'] = pd.cut(af_df['education'], bins=3, ordered=True, precision=0)\n",
    "af_df['fitness_cat'] = pd.cut(af_df['fitness'], bins=3, ordered=True, precision=0)\n",
    "af_df['usage_cat'] = pd.cut(af_df['usage'], bins=3, ordered=True, precision=0)\n",
    "af_df['income_cat'] = pd.cut(af_df['income']/1000, bins=3, ordered=True, precision=0)\n",
    "af_df['miles_cat'] = pd.cut(af_df['miles'], bins=4, ordered=True, precision=0)\n",
    "\n",
    "af_df.info() # datatype of new features are categories in order\n"
   ]
  },
  {
   "cell_type": "code",
   "execution_count": 352,
   "metadata": {},
   "outputs": [
    {
     "name": "stderr",
     "output_type": "stream",
     "text": [
      "/tmp/ipykernel_706189/952771960.py:10: FutureWarning: The behavior of Series.replace (and DataFrame.replace) with CategoricalDtype is deprecated. In a future version, replace will only be used for cases that preserve the categories. To change the categories, use ser.cat.rename_categories instead.\n",
      "  af_df['miles_cat'] = af_df['miles_cat'].replace({'<= 100mi':'<= 100mi', '101-200mi':'101-200mi', '201-300mi':'>=200mi', '>= 301mi':'>=200mi'})\n"
     ]
    }
   ],
   "source": [
    "# Renaming the categories\n",
    "af_df['age_cat'] = af_df['age_cat'].cat.rename_categories(['<=29', '30-39', '>= 40'])\n",
    "af_df['edu_cat'] = af_df['edu_cat'].cat.rename_categories(['<=15', '16-18', '>= 19'])\n",
    "af_df['fitness_cat'] = af_df['fitness_cat'].cat.rename_categories(['<= 2', '3 or 4', '>= 5'])\n",
    "af_df['usage_cat'] = af_df['usage_cat'].cat.rename_categories(['<= 2', '3 or 4', '>= 5'])\n",
    "af_df['income_cat'] = af_df['income_cat'].cat.rename_categories(['<= 55k', '56-80k', '>= 81k'])\n",
    "af_df['miles_cat'] = af_df['miles_cat'].cat.rename_categories(['<= 100mi', '101-200mi', '201-300mi', '>= 301mi'])\n",
    "\n",
    "# Collapsing 'miles_cat' to remove the 4th category which as very less count\n",
    "af_df['miles_cat'] = af_df['miles_cat'].replace({'<= 100mi':'<= 100mi', '101-200mi':'101-200mi', '201-300mi':'>=200mi', '>= 301mi':'>=200mi'})\n",
    "\n"
   ]
  },
  {
   "cell_type": "code",
   "execution_count": 353,
   "metadata": {},
   "outputs": [
    {
     "name": "stdout",
     "output_type": "stream",
     "text": [
      "age_cat\n",
      "<=29     107\n",
      "30-39     56\n",
      ">= 40     17\n",
      "Name: count, dtype: int64\n",
      "edu_cat\n",
      "16-18    108\n",
      "<=15      68\n",
      ">= 19      4\n",
      "Name: count, dtype: int64\n",
      "fitness_cat\n",
      "3 or 4    97\n",
      ">= 5      55\n",
      "<= 2      28\n",
      "Name: count, dtype: int64\n",
      "usage_cat\n",
      "<= 2      102\n",
      "3 or 4     69\n",
      ">= 5        9\n",
      "Name: count, dtype: int64\n",
      "income_cat\n",
      "<= 55k    117\n",
      "56-80k     44\n",
      ">= 81k     19\n",
      "Name: count, dtype: int64\n",
      "miles_cat\n",
      "<= 100mi     117\n",
      "101-200mi     51\n",
      ">=200mi       12\n",
      "Name: count, dtype: int64\n"
     ]
    }
   ],
   "source": [
    "# checking new categorical features\n",
    "for col in af_df[['age_cat', 'edu_cat', 'fitness_cat', 'usage_cat', 'income_cat', 'miles_cat']]:\n",
    "    print(af_df[col].value_counts())"
   ]
  },
  {
   "cell_type": "markdown",
   "metadata": {},
   "source": [
    "#### Assertion checks\n",
    "* Data type constraint assertions\n",
    "* Data range assertions\n",
    "* Missing value assertions"
   ]
  },
  {
   "cell_type": "code",
   "execution_count": 354,
   "metadata": {},
   "outputs": [],
   "source": [
    "# Assertions of data type constrain\n",
    "assert af_df.dtypes['product'] == 'category'\n",
    "assert af_df.dtypes['age'] == 'int64'\n",
    "assert af_df.dtypes['gender'] == 'category'\n",
    "assert af_df.dtypes['education'] == 'int64'\n",
    "assert af_df.dtypes['marital_status'] == 'category'\n",
    "assert af_df.dtypes['usage'] == 'int64'\n",
    "assert af_df.dtypes['fitness'] == 'int64'\n",
    "assert af_df.dtypes['income'] == 'int64'\n",
    "assert af_df.dtypes['miles'] == 'int64'\n",
    "\n",
    "# Assertion of data range constraints\n",
    "assert af_df['fitness'].between(1, 5).all()\n",
    "\n",
    "# Missing value assertion\n",
    "assert af_df.isnull().sum().sum() == 0 # no missing values\n",
    "\n",
    "# Assertion for newly generated features\n",
    "assert af_df.dtypes['age_cat'] == 'category'\n",
    "assert af_df.dtypes['edu_cat'] == 'category'\n",
    "assert af_df.dtypes['fitness_cat'] == 'category'\n",
    "assert af_df.dtypes['usage_cat'] == 'category'\n",
    "assert af_df.dtypes['income_cat'] == 'category'\n",
    "assert af_df.dtypes['miles_cat'] == 'category'"
   ]
  },
  {
   "cell_type": "markdown",
   "metadata": {},
   "source": [
    "## Visualisation and Exploration"
   ]
  }
 ],
 "metadata": {
  "kernelspec": {
   "display_name": "base",
   "language": "python",
   "name": "python3"
  },
  "language_info": {
   "codemirror_mode": {
    "name": "ipython",
    "version": 3
   },
   "file_extension": ".py",
   "mimetype": "text/x-python",
   "name": "python",
   "nbconvert_exporter": "python",
   "pygments_lexer": "ipython3",
   "version": "3.10.14"
  },
  "orig_nbformat": 4
 },
 "nbformat": 4,
 "nbformat_minor": 2
}
